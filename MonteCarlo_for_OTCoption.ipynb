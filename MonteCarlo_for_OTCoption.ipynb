{
 "cells": [
  {
   "cell_type": "code",
   "execution_count": 1,
   "metadata": {},
   "outputs": [],
   "source": [
    "import numpy as np\n",
    "from math import exp, sqrt"
   ]
  },
  {
   "cell_type": "code",
   "execution_count": 2,
   "metadata": {},
   "outputs": [],
   "source": [
    "def MonteCarlo(M, N, params):\n",
    "    sigma, rf, q = params\n",
    "    S = np.random.randn(N, M+1)\n",
    "    dt = 1/252\n",
    "    S[:, 0] = 1\n",
    "    for i in range(M):\n",
    "        S[:, i+1] = S[:, i] * np.exp((rf-q-0.5*sigma*sigma)*dt \\\n",
    "        + sigma*sqrt(dt) * S[:, i+1])\n",
    "    \n",
    "    return S"
   ]
  },
  {
   "cell_type": "code",
   "execution_count": 3,
   "metadata": {},
   "outputs": [
    {
     "data": {
      "text/plain": [
       "7.8539663577853585"
      ]
     },
     "execution_count": 3,
     "metadata": {},
     "output_type": "execute_result"
    }
   ],
   "source": [
    "def euro(params, type = \"call\", N = 10000):\n",
    "    s0, K, rf, q, sigma, T = params\n",
    "    s = MonteCarlo(T, N, (sigma, rf, q))\n",
    "    if type == \"call\":\n",
    "        s *= s0\n",
    "        pay_off = s[:, -1]\n",
    "        pay_off -= K\n",
    "        pay_off = pay_off[pay_off > 0]\n",
    "        V = pay_off.sum()/(N*exp((rf-q)*T/252))\n",
    "    return V\n",
    "\n",
    "euro((100, 100, .0, 0., .2, 252), N = 20000)"
   ]
  },
  {
   "cell_type": "code",
   "execution_count": 4,
   "metadata": {},
   "outputs": [
    {
     "data": {
      "text/plain": [
       "7.965567455405804"
      ]
     },
     "execution_count": 4,
     "metadata": {},
     "output_type": "execute_result"
    }
   ],
   "source": [
    "from scipy.stats import norm\n",
    "\n",
    "def BlackScholesCore(CallPutFlag,DF,F,X,T,v):\n",
    "    \n",
    "    vsqrt=v*np.sqrt(T)\n",
    "    d1 = (np.log(F/X)+(vsqrt*vsqrt/2.))/vsqrt\n",
    "    d2 = d1-vsqrt\n",
    "    if CallPutFlag:\n",
    "        return DF*(F*norm.cdf(d1)-X*norm.cdf(d2))\n",
    "    else:\n",
    "        return DF*(X*norm.cdf(-d2)-F*norm.cdf(-d1)) \n",
    "\n",
    "def BlackScholes(CallPutFlag,S,X,T,r,d,v):\n",
    "    return BlackScholesCore(CallPutFlag,np.exp(-r*T),np.exp((r-d)*T)*S,X,T,v)\n",
    "\n",
    "BlackScholes(1, 100, 100, 1, .0, .0, .2)"
   ]
  }
 ],
 "metadata": {
  "kernelspec": {
   "display_name": "Python 3.9.7 ('base')",
   "language": "python",
   "name": "python3"
  },
  "language_info": {
   "codemirror_mode": {
    "name": "ipython",
    "version": 3
   },
   "file_extension": ".py",
   "mimetype": "text/x-python",
   "name": "python",
   "nbconvert_exporter": "python",
   "pygments_lexer": "ipython3",
   "version": "3.9.7"
  },
  "orig_nbformat": 4,
  "vscode": {
   "interpreter": {
    "hash": "a04f5d07b0747026a8fbcdf50b9443318e69b1b8bd6247d88bfadb4789282972"
   }
  }
 },
 "nbformat": 4,
 "nbformat_minor": 2
}
